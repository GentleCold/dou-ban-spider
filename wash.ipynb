{
 "cells": [
  {
   "cell_type": "markdown",
   "source": [
    "数据读取"
   ],
   "metadata": {
    "collapsed": false
   }
  },
  {
   "cell_type": "code",
   "execution_count": 28,
   "metadata": {
    "collapsed": true
   },
   "outputs": [
    {
     "data": {
      "text/plain": "                                             0   \\\n0      https://book.douban.com/subject/1000019/   \n1      https://book.douban.com/subject/1000093/   \n2      https://book.douban.com/subject/1000121/   \n3      https://book.douban.com/subject/1000132/   \n4      https://book.douban.com/subject/1000144/   \n...                                         ...   \n66195  https://book.douban.com/subject/7916410/   \n66196  https://book.douban.com/subject/7925140/   \n66197  https://book.douban.com/subject/7947035/   \n66198  https://book.douban.com/subject/7962676/   \n66199  https://book.douban.com/subject/7967767/   \n\n                                                      1   \\\n0                                                  政治无意识   \n1                                              民族国家与经济政策   \n2                                                    昆虫记   \n3                                             古尊宿语录(上下册)   \n4                                                 交往行为理论   \n...                                                  ...   \n66195                                            马云的创业逻辑   \n66196                                        The UX Book   \n66197                           Critical Thinking Skills   \n66198           Handbook of Human Factors and Ergonomics   \n66199  Game Theory in Wireless and Communication Netw...   \n\n                                                      2   3     4   \\\n0                                              弗雷德里克.詹姆逊  文化    政治   \n1                                                     韦伯  文化    政治   \n2                              J.H.法布尔、[法国]让-亨利·卡西米尔·法布尔  科技    科学   \n3                                               [宋]赜藏主编集  文化    佛教   \n4                                               尤尔根.哈贝马斯  文化  西方哲学   \n...                                                  ...  ..   ...   \n66195                                                金错刀  经管    创业   \n66196                              RexHartson、PardhaPyla  科技  交互设计   \n66197                                     StellaCottrell  生活    教育   \n66198                                   Salvendy,Gavriel  科技  交互设计   \n66199  ZhuHan、DusitNiyato、WalidSaad、TamerBaşar、AreHjø...  科技    通信   \n\n                             5          6       7    8     9   \\\n0                     中国社会科学出版社     1999-8   35.00  7.6   185   \n1                  生活·读书·新知三联书店       1997    8.50  9.2   284   \n2                         作家出版社    2004-03   19.00  8.6  7526   \n3                          中华书局    1994-05   41.00  8.7    74   \n4                       上海人民出版社   2004-8-1   39.00  8.3   197   \n...                         ...        ...     ...  ...   ...   \n66195                     中信出版社     2012-2   42.00  6.4    35   \n66196            MorganKaufmann   2012-3-2   89.95  7.3    18   \n66197         PalgraveMacmillan  2011-5-20   16.99  7.8    26   \n66198            JohnWiley&Sons  2012-3-23  240.00  0.0    10   \n66199  CambridgeUniversityPress   2012-1-9  160.00  0.0    10   \n\n                                                      10  \\\n0      政治无意识：作为社会象征行为的叙事，ISBN：9787500425564，作者：（美）弗雷德...   \n1      辑录韦伯学术早期的四篇主要论作，是为以往韦伯研究所忽视，现今则受到学界特别重视的文本。展示出...   \n2      《昆虫记》是法国杰出昆虫学家、文学家法布尔的传世佳作，亦是一部不朽的著作。它熔作者毕生研究成...   \n3      《古尊宿语录》是晚唐、五代至南宋初期佛教禅宗的一部语录汇编，包括南宋怀让以下马祖、百丈、临济...   \n4      《交往行为理论》这部著作是涉及面相当广泛。这部著作中，马克斯・韦伯（Max Weber）占据...   \n...                                                  ...   \n66195  《马云的创业逻辑:跟踪马云12年》内容简介：无疑，马云已经当之无愧地成为当今中国的“创业教主...   \n66196  The UX Book, winner of a 2013 Most Promising N...   \n66197  The second edition of this leading guide helps...   \n66198  This is the fourth edition of the market-leadi...   \n66199  This unified treatment of game theory focuses ...   \n\n                                                      11  \n0      https://img2.doubanio.com/view/subject/s/publi...  \n1      https://img9.doubanio.com/view/subject/s/publi...  \n2      https://img9.doubanio.com/view/subject/s/publi...  \n3      https://img2.doubanio.com/view/subject/s/publi...  \n4      https://img9.doubanio.com/view/subject/s/publi...  \n...                                                  ...  \n66195  https://img9.doubanio.com/view/subject/s/publi...  \n66196  https://img2.doubanio.com/view/subject/s/publi...  \n66197  https://img2.doubanio.com/view/subject/s/publi...  \n66198  https://img9.doubanio.com/view/subject/s/publi...  \n66199  https://img1.doubanio.com/view/subject/s/publi...  \n\n[66200 rows x 12 columns]",
      "text/html": "<div>\n<style scoped>\n    .dataframe tbody tr th:only-of-type {\n        vertical-align: middle;\n    }\n\n    .dataframe tbody tr th {\n        vertical-align: top;\n    }\n\n    .dataframe thead th {\n        text-align: right;\n    }\n</style>\n<table border=\"1\" class=\"dataframe\">\n  <thead>\n    <tr style=\"text-align: right;\">\n      <th></th>\n      <th>0</th>\n      <th>1</th>\n      <th>2</th>\n      <th>3</th>\n      <th>4</th>\n      <th>5</th>\n      <th>6</th>\n      <th>7</th>\n      <th>8</th>\n      <th>9</th>\n      <th>10</th>\n      <th>11</th>\n    </tr>\n  </thead>\n  <tbody>\n    <tr>\n      <th>0</th>\n      <td>https://book.douban.com/subject/1000019/</td>\n      <td>政治无意识</td>\n      <td>弗雷德里克.詹姆逊</td>\n      <td>文化</td>\n      <td>政治</td>\n      <td>中国社会科学出版社</td>\n      <td>1999-8</td>\n      <td>35.00</td>\n      <td>7.6</td>\n      <td>185</td>\n      <td>政治无意识：作为社会象征行为的叙事，ISBN：9787500425564，作者：（美）弗雷德...</td>\n      <td>https://img2.doubanio.com/view/subject/s/publi...</td>\n    </tr>\n    <tr>\n      <th>1</th>\n      <td>https://book.douban.com/subject/1000093/</td>\n      <td>民族国家与经济政策</td>\n      <td>韦伯</td>\n      <td>文化</td>\n      <td>政治</td>\n      <td>生活·读书·新知三联书店</td>\n      <td>1997</td>\n      <td>8.50</td>\n      <td>9.2</td>\n      <td>284</td>\n      <td>辑录韦伯学术早期的四篇主要论作，是为以往韦伯研究所忽视，现今则受到学界特别重视的文本。展示出...</td>\n      <td>https://img9.doubanio.com/view/subject/s/publi...</td>\n    </tr>\n    <tr>\n      <th>2</th>\n      <td>https://book.douban.com/subject/1000121/</td>\n      <td>昆虫记</td>\n      <td>J.H.法布尔、[法国]让-亨利·卡西米尔·法布尔</td>\n      <td>科技</td>\n      <td>科学</td>\n      <td>作家出版社</td>\n      <td>2004-03</td>\n      <td>19.00</td>\n      <td>8.6</td>\n      <td>7526</td>\n      <td>《昆虫记》是法国杰出昆虫学家、文学家法布尔的传世佳作，亦是一部不朽的著作。它熔作者毕生研究成...</td>\n      <td>https://img9.doubanio.com/view/subject/s/publi...</td>\n    </tr>\n    <tr>\n      <th>3</th>\n      <td>https://book.douban.com/subject/1000132/</td>\n      <td>古尊宿语录(上下册)</td>\n      <td>[宋]赜藏主编集</td>\n      <td>文化</td>\n      <td>佛教</td>\n      <td>中华书局</td>\n      <td>1994-05</td>\n      <td>41.00</td>\n      <td>8.7</td>\n      <td>74</td>\n      <td>《古尊宿语录》是晚唐、五代至南宋初期佛教禅宗的一部语录汇编，包括南宋怀让以下马祖、百丈、临济...</td>\n      <td>https://img2.doubanio.com/view/subject/s/publi...</td>\n    </tr>\n    <tr>\n      <th>4</th>\n      <td>https://book.douban.com/subject/1000144/</td>\n      <td>交往行为理论</td>\n      <td>尤尔根.哈贝马斯</td>\n      <td>文化</td>\n      <td>西方哲学</td>\n      <td>上海人民出版社</td>\n      <td>2004-8-1</td>\n      <td>39.00</td>\n      <td>8.3</td>\n      <td>197</td>\n      <td>《交往行为理论》这部著作是涉及面相当广泛。这部著作中，马克斯・韦伯（Max Weber）占据...</td>\n      <td>https://img9.doubanio.com/view/subject/s/publi...</td>\n    </tr>\n    <tr>\n      <th>...</th>\n      <td>...</td>\n      <td>...</td>\n      <td>...</td>\n      <td>...</td>\n      <td>...</td>\n      <td>...</td>\n      <td>...</td>\n      <td>...</td>\n      <td>...</td>\n      <td>...</td>\n      <td>...</td>\n      <td>...</td>\n    </tr>\n    <tr>\n      <th>66195</th>\n      <td>https://book.douban.com/subject/7916410/</td>\n      <td>马云的创业逻辑</td>\n      <td>金错刀</td>\n      <td>经管</td>\n      <td>创业</td>\n      <td>中信出版社</td>\n      <td>2012-2</td>\n      <td>42.00</td>\n      <td>6.4</td>\n      <td>35</td>\n      <td>《马云的创业逻辑:跟踪马云12年》内容简介：无疑，马云已经当之无愧地成为当今中国的“创业教主...</td>\n      <td>https://img9.doubanio.com/view/subject/s/publi...</td>\n    </tr>\n    <tr>\n      <th>66196</th>\n      <td>https://book.douban.com/subject/7925140/</td>\n      <td>The UX Book</td>\n      <td>RexHartson、PardhaPyla</td>\n      <td>科技</td>\n      <td>交互设计</td>\n      <td>MorganKaufmann</td>\n      <td>2012-3-2</td>\n      <td>89.95</td>\n      <td>7.3</td>\n      <td>18</td>\n      <td>The UX Book, winner of a 2013 Most Promising N...</td>\n      <td>https://img2.doubanio.com/view/subject/s/publi...</td>\n    </tr>\n    <tr>\n      <th>66197</th>\n      <td>https://book.douban.com/subject/7947035/</td>\n      <td>Critical Thinking Skills</td>\n      <td>StellaCottrell</td>\n      <td>生活</td>\n      <td>教育</td>\n      <td>PalgraveMacmillan</td>\n      <td>2011-5-20</td>\n      <td>16.99</td>\n      <td>7.8</td>\n      <td>26</td>\n      <td>The second edition of this leading guide helps...</td>\n      <td>https://img2.doubanio.com/view/subject/s/publi...</td>\n    </tr>\n    <tr>\n      <th>66198</th>\n      <td>https://book.douban.com/subject/7962676/</td>\n      <td>Handbook of Human Factors and Ergonomics</td>\n      <td>Salvendy,Gavriel</td>\n      <td>科技</td>\n      <td>交互设计</td>\n      <td>JohnWiley&amp;Sons</td>\n      <td>2012-3-23</td>\n      <td>240.00</td>\n      <td>0.0</td>\n      <td>10</td>\n      <td>This is the fourth edition of the market-leadi...</td>\n      <td>https://img9.doubanio.com/view/subject/s/publi...</td>\n    </tr>\n    <tr>\n      <th>66199</th>\n      <td>https://book.douban.com/subject/7967767/</td>\n      <td>Game Theory in Wireless and Communication Netw...</td>\n      <td>ZhuHan、DusitNiyato、WalidSaad、TamerBaşar、AreHjø...</td>\n      <td>科技</td>\n      <td>通信</td>\n      <td>CambridgeUniversityPress</td>\n      <td>2012-1-9</td>\n      <td>160.00</td>\n      <td>0.0</td>\n      <td>10</td>\n      <td>This unified treatment of game theory focuses ...</td>\n      <td>https://img1.doubanio.com/view/subject/s/publi...</td>\n    </tr>\n  </tbody>\n</table>\n<p>66200 rows × 12 columns</p>\n</div>"
     },
     "execution_count": 28,
     "metadata": {},
     "output_type": "execute_result"
    }
   ],
   "source": [
    "import pymysql\n",
    "import pandas as pd\n",
    "\n",
    "db = pymysql.connect(host=\"localhost\", port = 3306, user = \"root\", password = \"root\", database = \"webwork\")\n",
    "cursor = db.cursor()\n",
    "cursor.execute(\"SELECT * FROM rawbooks;\")\n",
    "data = pd.DataFrame(list(cursor.fetchall()))\n",
    "data"
   ]
  },
  {
   "cell_type": "markdown",
   "source": [
    "数据清洗"
   ],
   "metadata": {
    "collapsed": false
   }
  },
  {
   "cell_type": "code",
   "execution_count": 29,
   "outputs": [],
   "source": [
    "import re\n",
    "\n",
    "total = data.shape[0]\n",
    "i = 0\n",
    "\n",
    "def atoi(s):\n",
    "    if not s:\n",
    "        return 0\n",
    "    n = list(map(int, map(float, re.findall(\"\\d+\\.?\\d*\", s))))\n",
    "    if len(n) > 0:\n",
    "        return n[0]\n",
    "    return 0\n",
    "\n",
    "while i < total:\n",
    "    drop = False\n",
    "    # 出版日期\n",
    "    tmp = '%d'%atoi(data.iloc[i, 6])\n",
    "    if len(tmp) < 4 or tmp[:4] == \"1500\":\n",
    "        drop = True\n",
    "    else:\n",
    "        data.iloc[i, 6] = tmp[:4]\n",
    "\n",
    "    # 标题\n",
    "    if len(data.iloc[i, 1].strip()) == 0:\n",
    "        drop = True\n",
    "\n",
    "    # 作者\n",
    "    if len(data.iloc[i, 2].strip()) == 0:\n",
    "        drop = True\n",
    "\n",
    "    # 出版社\n",
    "    if len(data.iloc[i, 5].strip()) == 0:\n",
    "        data.iloc[i, 5] = '-'\n",
    "\n",
    "    if drop:\n",
    "        data.drop([i], inplace=True)\n",
    "        data.reset_index(drop=True, inplace=True)\n",
    "        total -= 1\n",
    "        i -= 1\n",
    "    i += 1\n",
    "\n",
    "\n",
    "data.to_csv('data.csv', index=0, encoding='utf_8_sig')"
   ],
   "metadata": {
    "collapsed": false,
    "pycharm": {
     "name": "#%%\n"
    }
   }
  }
 ],
 "metadata": {
  "kernelspec": {
   "display_name": "Python 3",
   "language": "python",
   "name": "python3"
  },
  "language_info": {
   "codemirror_mode": {
    "name": "ipython",
    "version": 2
   },
   "file_extension": ".py",
   "mimetype": "text/x-python",
   "name": "python",
   "nbconvert_exporter": "python",
   "pygments_lexer": "ipython2",
   "version": "2.7.6"
  }
 },
 "nbformat": 4,
 "nbformat_minor": 0
}